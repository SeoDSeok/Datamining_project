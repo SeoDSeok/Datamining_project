{
 "cells": [
  {
   "cell_type": "code",
   "execution_count": 1,
   "id": "c1fd894e",
   "metadata": {},
   "outputs": [],
   "source": [
    "import pandas as pd\n",
    "import numpy as np"
   ]
  },
  {
   "cell_type": "code",
   "execution_count": 2,
   "id": "e606d85f",
   "metadata": {},
   "outputs": [
    {
     "data": {
      "text/html": [
       "<div>\n",
       "<style scoped>\n",
       "    .dataframe tbody tr th:only-of-type {\n",
       "        vertical-align: middle;\n",
       "    }\n",
       "\n",
       "    .dataframe tbody tr th {\n",
       "        vertical-align: top;\n",
       "    }\n",
       "\n",
       "    .dataframe thead th {\n",
       "        text-align: right;\n",
       "    }\n",
       "</style>\n",
       "<table border=\"1\" class=\"dataframe\">\n",
       "  <thead>\n",
       "    <tr style=\"text-align: right;\">\n",
       "      <th></th>\n",
       "      <th>발생원인</th>\n",
       "      <th>월별</th>\n",
       "      <th>시간대별</th>\n",
       "      <th>사고규모</th>\n",
       "      <th>풍속(m/s)</th>\n",
       "      <th>GUST풍속(m/s)</th>\n",
       "      <th>현지기압(hPa)</th>\n",
       "      <th>습도(%)</th>\n",
       "      <th>기온(°C)</th>\n",
       "      <th>최대파고(m)</th>\n",
       "      <th>...</th>\n",
       "      <th>선 종_기타(통선)</th>\n",
       "      <th>선 종_낚시어선</th>\n",
       "      <th>선 종_모터보트</th>\n",
       "      <th>선 종_어선</th>\n",
       "      <th>선 종_여객선</th>\n",
       "      <th>선 종_예부선</th>\n",
       "      <th>선 종_요트</th>\n",
       "      <th>선 종_유도선</th>\n",
       "      <th>선 종_유조선</th>\n",
       "      <th>선 종_화물선</th>\n",
       "    </tr>\n",
       "  </thead>\n",
       "  <tbody>\n",
       "    <tr>\n",
       "      <th>0</th>\n",
       "      <td>운항과실</td>\n",
       "      <td>12</td>\n",
       "      <td>6</td>\n",
       "      <td>2.659574</td>\n",
       "      <td>4.9</td>\n",
       "      <td>7.5</td>\n",
       "      <td>1027.9</td>\n",
       "      <td>51.0</td>\n",
       "      <td>4.8</td>\n",
       "      <td>1.1</td>\n",
       "      <td>...</td>\n",
       "      <td>0</td>\n",
       "      <td>1</td>\n",
       "      <td>0</td>\n",
       "      <td>0</td>\n",
       "      <td>0</td>\n",
       "      <td>0</td>\n",
       "      <td>0</td>\n",
       "      <td>0</td>\n",
       "      <td>0</td>\n",
       "      <td>0</td>\n",
       "    </tr>\n",
       "    <tr>\n",
       "      <th>1</th>\n",
       "      <td>취급불량 및 결함</td>\n",
       "      <td>12</td>\n",
       "      <td>21</td>\n",
       "      <td>0.030538</td>\n",
       "      <td>2.7</td>\n",
       "      <td>4.9</td>\n",
       "      <td>1028.6</td>\n",
       "      <td>58.0</td>\n",
       "      <td>8.6</td>\n",
       "      <td>2.2</td>\n",
       "      <td>...</td>\n",
       "      <td>0</td>\n",
       "      <td>0</td>\n",
       "      <td>0</td>\n",
       "      <td>1</td>\n",
       "      <td>0</td>\n",
       "      <td>0</td>\n",
       "      <td>0</td>\n",
       "      <td>0</td>\n",
       "      <td>0</td>\n",
       "      <td>0</td>\n",
       "    </tr>\n",
       "    <tr>\n",
       "      <th>2</th>\n",
       "      <td>취급불량 및 결함</td>\n",
       "      <td>12</td>\n",
       "      <td>11</td>\n",
       "      <td>0.333333</td>\n",
       "      <td>6.7</td>\n",
       "      <td>9.6</td>\n",
       "      <td>1030.0</td>\n",
       "      <td>51.0</td>\n",
       "      <td>5.1</td>\n",
       "      <td>2.8</td>\n",
       "      <td>...</td>\n",
       "      <td>0</td>\n",
       "      <td>0</td>\n",
       "      <td>0</td>\n",
       "      <td>1</td>\n",
       "      <td>0</td>\n",
       "      <td>0</td>\n",
       "      <td>0</td>\n",
       "      <td>0</td>\n",
       "      <td>0</td>\n",
       "      <td>0</td>\n",
       "    </tr>\n",
       "    <tr>\n",
       "      <th>3</th>\n",
       "      <td>운항과실</td>\n",
       "      <td>12</td>\n",
       "      <td>14</td>\n",
       "      <td>0.186235</td>\n",
       "      <td>8.8</td>\n",
       "      <td>11.8</td>\n",
       "      <td>1028.4</td>\n",
       "      <td>64.0</td>\n",
       "      <td>4.7</td>\n",
       "      <td>2.5</td>\n",
       "      <td>...</td>\n",
       "      <td>0</td>\n",
       "      <td>0</td>\n",
       "      <td>0</td>\n",
       "      <td>0</td>\n",
       "      <td>1</td>\n",
       "      <td>0</td>\n",
       "      <td>0</td>\n",
       "      <td>0</td>\n",
       "      <td>0</td>\n",
       "      <td>0</td>\n",
       "    </tr>\n",
       "    <tr>\n",
       "      <th>4</th>\n",
       "      <td>관리문제</td>\n",
       "      <td>12</td>\n",
       "      <td>13</td>\n",
       "      <td>0.238095</td>\n",
       "      <td>8.8</td>\n",
       "      <td>11.5</td>\n",
       "      <td>1029.4</td>\n",
       "      <td>63.0</td>\n",
       "      <td>4.8</td>\n",
       "      <td>3.1</td>\n",
       "      <td>...</td>\n",
       "      <td>0</td>\n",
       "      <td>0</td>\n",
       "      <td>0</td>\n",
       "      <td>0</td>\n",
       "      <td>0</td>\n",
       "      <td>0</td>\n",
       "      <td>0</td>\n",
       "      <td>0</td>\n",
       "      <td>0</td>\n",
       "      <td>0</td>\n",
       "    </tr>\n",
       "    <tr>\n",
       "      <th>...</th>\n",
       "      <td>...</td>\n",
       "      <td>...</td>\n",
       "      <td>...</td>\n",
       "      <td>...</td>\n",
       "      <td>...</td>\n",
       "      <td>...</td>\n",
       "      <td>...</td>\n",
       "      <td>...</td>\n",
       "      <td>...</td>\n",
       "      <td>...</td>\n",
       "      <td>...</td>\n",
       "      <td>...</td>\n",
       "      <td>...</td>\n",
       "      <td>...</td>\n",
       "      <td>...</td>\n",
       "      <td>...</td>\n",
       "      <td>...</td>\n",
       "      <td>...</td>\n",
       "      <td>...</td>\n",
       "      <td>...</td>\n",
       "      <td>...</td>\n",
       "    </tr>\n",
       "    <tr>\n",
       "      <th>16842</th>\n",
       "      <td>취급불량 및 결함</td>\n",
       "      <td>1</td>\n",
       "      <td>17</td>\n",
       "      <td>2.333333</td>\n",
       "      <td>7.0</td>\n",
       "      <td>9.7</td>\n",
       "      <td>1023.9</td>\n",
       "      <td>56.0</td>\n",
       "      <td>5.0</td>\n",
       "      <td>2.3</td>\n",
       "      <td>...</td>\n",
       "      <td>0</td>\n",
       "      <td>1</td>\n",
       "      <td>0</td>\n",
       "      <td>0</td>\n",
       "      <td>0</td>\n",
       "      <td>0</td>\n",
       "      <td>0</td>\n",
       "      <td>0</td>\n",
       "      <td>0</td>\n",
       "      <td>0</td>\n",
       "    </tr>\n",
       "    <tr>\n",
       "      <th>16843</th>\n",
       "      <td>취급불량 및 결함</td>\n",
       "      <td>1</td>\n",
       "      <td>15</td>\n",
       "      <td>0.518135</td>\n",
       "      <td>6.3</td>\n",
       "      <td>8.9</td>\n",
       "      <td>1023.9</td>\n",
       "      <td>55.0</td>\n",
       "      <td>4.4</td>\n",
       "      <td>3.0</td>\n",
       "      <td>...</td>\n",
       "      <td>0</td>\n",
       "      <td>0</td>\n",
       "      <td>0</td>\n",
       "      <td>1</td>\n",
       "      <td>0</td>\n",
       "      <td>0</td>\n",
       "      <td>0</td>\n",
       "      <td>0</td>\n",
       "      <td>0</td>\n",
       "      <td>0</td>\n",
       "    </tr>\n",
       "    <tr>\n",
       "      <th>16844</th>\n",
       "      <td>취급불량 및 결함</td>\n",
       "      <td>1</td>\n",
       "      <td>12</td>\n",
       "      <td>2.311248</td>\n",
       "      <td>8.0</td>\n",
       "      <td>10.3</td>\n",
       "      <td>1027.0</td>\n",
       "      <td>62.0</td>\n",
       "      <td>3.0</td>\n",
       "      <td>1.3</td>\n",
       "      <td>...</td>\n",
       "      <td>0</td>\n",
       "      <td>1</td>\n",
       "      <td>0</td>\n",
       "      <td>0</td>\n",
       "      <td>0</td>\n",
       "      <td>0</td>\n",
       "      <td>0</td>\n",
       "      <td>0</td>\n",
       "      <td>0</td>\n",
       "      <td>0</td>\n",
       "    </tr>\n",
       "    <tr>\n",
       "      <th>16845</th>\n",
       "      <td>운항과실</td>\n",
       "      <td>1</td>\n",
       "      <td>11</td>\n",
       "      <td>0.500000</td>\n",
       "      <td>6.5</td>\n",
       "      <td>9.6</td>\n",
       "      <td>1027.9</td>\n",
       "      <td>59.0</td>\n",
       "      <td>4.5</td>\n",
       "      <td>1.7</td>\n",
       "      <td>...</td>\n",
       "      <td>0</td>\n",
       "      <td>0</td>\n",
       "      <td>0</td>\n",
       "      <td>1</td>\n",
       "      <td>0</td>\n",
       "      <td>0</td>\n",
       "      <td>0</td>\n",
       "      <td>0</td>\n",
       "      <td>0</td>\n",
       "      <td>0</td>\n",
       "    </tr>\n",
       "    <tr>\n",
       "      <th>16846</th>\n",
       "      <td>운항과실</td>\n",
       "      <td>1</td>\n",
       "      <td>11</td>\n",
       "      <td>0.235537</td>\n",
       "      <td>6.5</td>\n",
       "      <td>9.6</td>\n",
       "      <td>1027.9</td>\n",
       "      <td>59.0</td>\n",
       "      <td>4.5</td>\n",
       "      <td>1.7</td>\n",
       "      <td>...</td>\n",
       "      <td>0</td>\n",
       "      <td>0</td>\n",
       "      <td>0</td>\n",
       "      <td>0</td>\n",
       "      <td>1</td>\n",
       "      <td>0</td>\n",
       "      <td>0</td>\n",
       "      <td>0</td>\n",
       "      <td>0</td>\n",
       "      <td>0</td>\n",
       "    </tr>\n",
       "  </tbody>\n",
       "</table>\n",
       "<p>16847 rows × 58 columns</p>\n",
       "</div>"
      ],
      "text/plain": [
       "            발생원인  월별  시간대별      사고규모  풍속(m/s)  GUST풍속(m/s)  현지기압(hPa)  습도(%)  \\\n",
       "0           운항과실  12     6  2.659574      4.9          7.5     1027.9   51.0   \n",
       "1      취급불량 및 결함  12    21  0.030538      2.7          4.9     1028.6   58.0   \n",
       "2      취급불량 및 결함  12    11  0.333333      6.7          9.6     1030.0   51.0   \n",
       "3           운항과실  12    14  0.186235      8.8         11.8     1028.4   64.0   \n",
       "4           관리문제  12    13  0.238095      8.8         11.5     1029.4   63.0   \n",
       "...          ...  ..   ...       ...      ...          ...        ...    ...   \n",
       "16842  취급불량 및 결함   1    17  2.333333      7.0          9.7     1023.9   56.0   \n",
       "16843  취급불량 및 결함   1    15  0.518135      6.3          8.9     1023.9   55.0   \n",
       "16844  취급불량 및 결함   1    12  2.311248      8.0         10.3     1027.0   62.0   \n",
       "16845       운항과실   1    11  0.500000      6.5          9.6     1027.9   59.0   \n",
       "16846       운항과실   1    11  0.235537      6.5          9.6     1027.9   59.0   \n",
       "\n",
       "       기온(°C)  최대파고(m)  ...  선 종_기타(통선)  선 종_낚시어선  선 종_모터보트  선 종_어선  선 종_여객선  \\\n",
       "0         4.8      1.1  ...           0         1         0       0        0   \n",
       "1         8.6      2.2  ...           0         0         0       1        0   \n",
       "2         5.1      2.8  ...           0         0         0       1        0   \n",
       "3         4.7      2.5  ...           0         0         0       0        1   \n",
       "4         4.8      3.1  ...           0         0         0       0        0   \n",
       "...       ...      ...  ...         ...       ...       ...     ...      ...   \n",
       "16842     5.0      2.3  ...           0         1         0       0        0   \n",
       "16843     4.4      3.0  ...           0         0         0       1        0   \n",
       "16844     3.0      1.3  ...           0         1         0       0        0   \n",
       "16845     4.5      1.7  ...           0         0         0       1        0   \n",
       "16846     4.5      1.7  ...           0         0         0       0        1   \n",
       "\n",
       "       선 종_예부선  선 종_요트  선 종_유도선  선 종_유조선  선 종_화물선  \n",
       "0            0       0        0        0        0  \n",
       "1            0       0        0        0        0  \n",
       "2            0       0        0        0        0  \n",
       "3            0       0        0        0        0  \n",
       "4            0       0        0        0        0  \n",
       "...        ...     ...      ...      ...      ...  \n",
       "16842        0       0        0        0        0  \n",
       "16843        0       0        0        0        0  \n",
       "16844        0       0        0        0        0  \n",
       "16845        0       0        0        0        0  \n",
       "16846        0       0        0        0        0  \n",
       "\n",
       "[16847 rows x 58 columns]"
      ]
     },
     "execution_count": 2,
     "metadata": {},
     "output_type": "execute_result"
    }
   ],
   "source": [
    "data = pd.read_csv('project_data5.csv')\n",
    "data"
   ]
  },
  {
   "cell_type": "markdown",
   "id": "ee75d667",
   "metadata": {},
   "source": [
    "# 1. SVM"
   ]
  },
  {
   "cell_type": "code",
   "execution_count": 3,
   "id": "97eaee80",
   "metadata": {},
   "outputs": [],
   "source": [
    "# 필요한 사이킷런 라이브러리 업로드 !! \n",
    "from sklearn.model_selection import train_test_split\n",
    "from sklearn.svm import SVC\n",
    "from sklearn.metrics import accuracy_score, f1_score, confusion_matrix\n",
    "from sklearn.preprocessing import MinMaxScaler"
   ]
  },
  {
   "cell_type": "code",
   "execution_count": 5,
   "id": "effa9854",
   "metadata": {},
   "outputs": [],
   "source": [
    "y = data['발생원인']\n",
    "X = data.drop(['발생원인'], axis=1)"
   ]
  },
  {
   "cell_type": "code",
   "execution_count": 42,
   "id": "af85b6e2",
   "metadata": {},
   "outputs": [],
   "source": [
    "# train vs test | train vs validation\n",
    "X_train_all, X_test, y_train_all, y_test = train_test_split(X, y, random_state=42, stratify = y, test_size=0.2)\n",
    "X_train, X_val, y_train, y_val = train_test_split(X, y, random_state=42, stratify = y, test_size=0.2)"
   ]
  },
  {
   "cell_type": "code",
   "execution_count": 43,
   "id": "0bb2f453",
   "metadata": {},
   "outputs": [
    {
     "data": {
      "text/plain": [
       "Text(0, 0.5, 'Feature magnitude')"
      ]
     },
     "execution_count": 43,
     "metadata": {},
     "output_type": "execute_result"
    },
    {
     "name": "stderr",
     "output_type": "stream",
     "text": [
      "Font 'default' does not have a glyph for '-' [U+2212], substituting with a dummy symbol.\n",
      "Font 'default' does not have a glyph for '-' [U+2212], substituting with a dummy symbol.\n",
      "Font 'default' does not have a glyph for '-' [U+2212], substituting with a dummy symbol.\n",
      "Font 'default' does not have a glyph for '-' [U+2212], substituting with a dummy symbol.\n"
     ]
    },
    {
     "data": {
      "image/png": "[encoded data removed]",
      "text/plain": [
       "<Figure size 640x480 with 1 Axes>"
      ]
     },
     "metadata": {},
     "output_type": "display_data"
    }
   ],
   "source": [
    "import matplotlib.pyplot as plt\n",
    "plt.boxplot(X_train_all, manage_ticks=False)\n",
    "plt.yscale(\"symlog\")\n",
    "plt.xlabel(\"Feature index\")\n",
    "plt.ylabel(\"Feature magnitude\")"
   ]
  },
  {
   "cell_type": "code",
   "execution_count": 8,
   "id": "e7d4d61d",
   "metadata": {},
   "outputs": [],
   "source": [
    "## scaling 진행\n",
    "## 여기서는 범주형 변수가 있으므로 자동으로 범위를 [0,1]로 주고자 minmax scaling을 진행하였다."
   ]
  },
  {
   "cell_type": "code",
   "execution_count": 44,
   "id": "af889b88",
   "metadata": {},
   "outputs": [],
   "source": [
    "scaler = MinMaxScaler()\n",
    "scaler.fit(X_train)\n",
    "X_train_scaled = scaler.transform(X_train)\n",
    "X_val_scaled = scaler.transform(X_val)\n",
    "X_test_scaled = scaler.transform(X_test)"
   ]
  },
  {
   "cell_type": "code",
   "execution_count": 45,
   "id": "19c3087e",
   "metadata": {},
   "outputs": [
    {
     "data": {
      "text/plain": [
       "Text(0, 0.5, 'Feature magnitude')"
      ]
     },
     "execution_count": 45,
     "metadata": {},
     "output_type": "execute_result"
    },
    {
     "name": "stderr",
     "output_type": "stream",
     "text": [
      "Font 'default' does not have a glyph for '-' [U+2212], substituting with a dummy symbol.\n",
      "Font 'default' does not have a glyph for '-' [U+2212], substituting with a dummy symbol.\n",
      "Font 'default' does not have a glyph for '-' [U+2212], substituting with a dummy symbol.\n",
      "Font 'default' does not have a glyph for '-' [U+2212], substituting with a dummy symbol.\n"
     ]
    },
    {
     "data": {
      "image/png": "[encoded data removed]",
      "text/plain": [
       "<Figure size 640x480 with 1 Axes>"
      ]
     },
     "metadata": {},
     "output_type": "display_data"
    }
   ],
   "source": [
    "plt.boxplot(X_train_scaled, manage_ticks=False)\n",
    "plt.yscale(\"symlog\")\n",
    "plt.xlabel(\"Feature index\")\n",
    "plt.ylabel(\"Feature magnitude\")"
   ]
  },
  {
   "cell_type": "code",
   "execution_count": 46,
   "id": "6c428cf8",
   "metadata": {},
   "outputs": [],
   "source": [
    "training_accuracy = []\n",
    "val_accuracy = []\n",
    "\n",
    "C_settings = [0.01, 1, 100]\n",
    "gamma_settings = [0.01, 0.1, 1]\n",
    "for C in C_settings:\n",
    "    for gamma in gamma_settings:\n",
    "        svc = SVC(C=C, gamma=gamma, kernel='rbf')\n",
    "        svc.fit(X_train_scaled, y_train)\n",
    "        y_train_hat = svc.predict(X_train_scaled)\n",
    "        y_val_hat = svc.predict(X_val_scaled)\n",
    "        \n",
    "        training_accuracy.append(accuracy_score(y_train, y_train_hat))\n",
    "        val_accuracy.append(accuracy_score(y_val, y_val_hat))"
   ]
  },
  {
   "cell_type": "code",
   "execution_count": 47,
   "id": "e98e5ff9",
   "metadata": {},
   "outputs": [
    {
     "data": {
      "text/html": [
       "<div>\n",
       "<style scoped>\n",
       "    .dataframe tbody tr th:only-of-type {\n",
       "        vertical-align: middle;\n",
       "    }\n",
       "\n",
       "    .dataframe tbody tr th {\n",
       "        vertical-align: top;\n",
       "    }\n",
       "\n",
       "    .dataframe thead th {\n",
       "        text-align: right;\n",
       "    }\n",
       "</style>\n",
       "<table border=\"1\" class=\"dataframe\">\n",
       "  <thead>\n",
       "    <tr style=\"text-align: right;\">\n",
       "      <th></th>\n",
       "      <th>C</th>\n",
       "      <th>gamma</th>\n",
       "      <th>training accuracy</th>\n",
       "      <th>validation accuracy</th>\n",
       "    </tr>\n",
       "  </thead>\n",
       "  <tbody>\n",
       "    <tr>\n",
       "      <th>0</th>\n",
       "      <td>0.01</td>\n",
       "      <td>0.01</td>\n",
       "      <td>0.418342</td>\n",
       "      <td>0.418398</td>\n",
       "    </tr>\n",
       "    <tr>\n",
       "      <th>1</th>\n",
       "      <td>0.01</td>\n",
       "      <td>0.10</td>\n",
       "      <td>0.418342</td>\n",
       "      <td>0.418398</td>\n",
       "    </tr>\n",
       "    <tr>\n",
       "      <th>2</th>\n",
       "      <td>0.01</td>\n",
       "      <td>1.00</td>\n",
       "      <td>0.418342</td>\n",
       "      <td>0.418398</td>\n",
       "    </tr>\n",
       "    <tr>\n",
       "      <th>3</th>\n",
       "      <td>1.00</td>\n",
       "      <td>0.01</td>\n",
       "      <td>0.455368</td>\n",
       "      <td>0.445994</td>\n",
       "    </tr>\n",
       "    <tr>\n",
       "      <th>4</th>\n",
       "      <td>1.00</td>\n",
       "      <td>0.10</td>\n",
       "      <td>0.492543</td>\n",
       "      <td>0.478932</td>\n",
       "    </tr>\n",
       "    <tr>\n",
       "      <th>5</th>\n",
       "      <td>1.00</td>\n",
       "      <td>1.00</td>\n",
       "      <td>0.589003</td>\n",
       "      <td>0.481009</td>\n",
       "    </tr>\n",
       "    <tr>\n",
       "      <th>6</th>\n",
       "      <td>100.00</td>\n",
       "      <td>0.01</td>\n",
       "      <td>0.496401</td>\n",
       "      <td>0.484273</td>\n",
       "    </tr>\n",
       "    <tr>\n",
       "      <th>7</th>\n",
       "      <td>100.00</td>\n",
       "      <td>0.10</td>\n",
       "      <td>0.597017</td>\n",
       "      <td>0.488427</td>\n",
       "    </tr>\n",
       "    <tr>\n",
       "      <th>8</th>\n",
       "      <td>100.00</td>\n",
       "      <td>1.00</td>\n",
       "      <td>0.830081</td>\n",
       "      <td>0.437389</td>\n",
       "    </tr>\n",
       "  </tbody>\n",
       "</table>\n",
       "</div>"
      ],
      "text/plain": [
       "        C  gamma  training accuracy  validation accuracy\n",
       "0    0.01   0.01           0.418342             0.418398\n",
       "1    0.01   0.10           0.418342             0.418398\n",
       "2    0.01   1.00           0.418342             0.418398\n",
       "3    1.00   0.01           0.455368             0.445994\n",
       "4    1.00   0.10           0.492543             0.478932\n",
       "5    1.00   1.00           0.589003             0.481009\n",
       "6  100.00   0.01           0.496401             0.484273\n",
       "7  100.00   0.10           0.597017             0.488427\n",
       "8  100.00   1.00           0.830081             0.437389"
      ]
     },
     "execution_count": 47,
     "metadata": {},
     "output_type": "execute_result"
    }
   ],
   "source": [
    "pd.DataFrame({\"C\":sorted(C_settings*3), \"gamma\":gamma_settings*3, \"training accuracy\": training_accuracy, \"validation accuracy\": val_accuracy})"
   ]
  },
  {
   "cell_type": "code",
   "execution_count": 48,
   "id": "4a07e887",
   "metadata": {},
   "outputs": [],
   "source": [
    "final_svc = SVC(C=100 , gamma=0.01 , kernel='rbf')\n",
    "final_svc.fit(X_train_scaled, y_train)\n",
    "y_test_hat = final_svc.predict(X_test_scaled)"
   ]
  },
  {
   "cell_type": "code",
   "execution_count": 49,
   "id": "ead279ee",
   "metadata": {},
   "outputs": [
    {
     "data": {
      "text/plain": [
       "0.48427299703264093"
      ]
     },
     "execution_count": 49,
     "metadata": {},
     "output_type": "execute_result"
    }
   ],
   "source": [
    "accuracy_score(y_test, y_test_hat)"
   ]
  },
  {
   "cell_type": "code",
   "execution_count": 50,
   "id": "54133fe8",
   "metadata": {},
   "outputs": [
    {
     "data": {
      "text/plain": [
       "0.34817489450138794"
      ]
     },
     "execution_count": 50,
     "metadata": {},
     "output_type": "execute_result"
    }
   ],
   "source": [
    "f1_score(y_test, y_test_hat, average='macro')"
   ]
  },
  {
   "cell_type": "code",
   "execution_count": 51,
   "id": "b435abec",
   "metadata": {},
   "outputs": [
    {
     "data": {
      "text/plain": [
       "array([[  60,   20,    2,  160,  201],\n",
       "       [   5,   76,    0,   26,   32],\n",
       "       [  15,    8,    0,   74,  129],\n",
       "       [  33,   25,    0,  494,  600],\n",
       "       [  42,   33,    0,  333, 1002]], dtype=int64)"
      ]
     },
     "execution_count": 51,
     "metadata": {},
     "output_type": "execute_result"
    }
   ],
   "source": [
    "confusion_matrix(y_test, y_test_hat)"
   ]
  },
  {
   "cell_type": "markdown",
   "id": "8163e868",
   "metadata": {},
   "source": [
    "# 2. RandomForest"
   ]
  },
  {
   "cell_type": "code",
   "execution_count": 52,
   "id": "6e0b8ce5",
   "metadata": {},
   "outputs": [],
   "source": [
    "from sklearn.ensemble import RandomForestClassifier"
   ]
  },
  {
   "cell_type": "code",
   "execution_count": 53,
   "id": "0b0f3935",
   "metadata": {},
   "outputs": [],
   "source": [
    "# RandomForest는 scaling에 robust를 함으로 scaling을 적용하지 않은 data를 이용 ! "
   ]
  },
  {
   "cell_type": "code",
   "execution_count": 54,
   "id": "2395928d",
   "metadata": {},
   "outputs": [],
   "source": [
    "training_accuracy = []\n",
    "val_accuracy = []\n",
    "\n",
    "n_settings = [5, 10, 20, 50, 100, 200, 400, 600, 800, 1000]\n",
    "for n in n_settings:\n",
    "    clf = RandomForestClassifier(n_estimators=n)\n",
    "    clf.fit(X_train, y_train)\n",
    "    \n",
    "    y_train_hat = clf.predict(X_train)\n",
    "    y_val_hat = clf.predict(X_val)\n",
    "    \n",
    "    training_accuracy.append(accuracy_score(y_train, y_train_hat))\n",
    "    val_accuracy.append(accuracy_score(y_val, y_val_hat))"
   ]
  },
  {
   "cell_type": "code",
   "execution_count": 55,
   "id": "127704e0",
   "metadata": {},
   "outputs": [
    {
     "data": {
      "text/html": [
       "<div>\n",
       "<style scoped>\n",
       "    .dataframe tbody tr th:only-of-type {\n",
       "        vertical-align: middle;\n",
       "    }\n",
       "\n",
       "    .dataframe tbody tr th {\n",
       "        vertical-align: top;\n",
       "    }\n",
       "\n",
       "    .dataframe thead th {\n",
       "        text-align: right;\n",
       "    }\n",
       "</style>\n",
       "<table border=\"1\" class=\"dataframe\">\n",
       "  <thead>\n",
       "    <tr style=\"text-align: right;\">\n",
       "      <th></th>\n",
       "      <th>n_estimators</th>\n",
       "      <th>training accuracy</th>\n",
       "      <th>val accuracy</th>\n",
       "    </tr>\n",
       "  </thead>\n",
       "  <tbody>\n",
       "    <tr>\n",
       "      <th>0</th>\n",
       "      <td>5</td>\n",
       "      <td>0.947169</td>\n",
       "      <td>0.477745</td>\n",
       "    </tr>\n",
       "    <tr>\n",
       "      <th>1</th>\n",
       "      <td>10</td>\n",
       "      <td>0.985234</td>\n",
       "      <td>0.505638</td>\n",
       "    </tr>\n",
       "    <tr>\n",
       "      <th>2</th>\n",
       "      <td>20</td>\n",
       "      <td>0.997700</td>\n",
       "      <td>0.515134</td>\n",
       "    </tr>\n",
       "    <tr>\n",
       "      <th>3</th>\n",
       "      <td>50</td>\n",
       "      <td>0.999852</td>\n",
       "      <td>0.529080</td>\n",
       "    </tr>\n",
       "    <tr>\n",
       "      <th>4</th>\n",
       "      <td>100</td>\n",
       "      <td>0.999852</td>\n",
       "      <td>0.543917</td>\n",
       "    </tr>\n",
       "    <tr>\n",
       "      <th>5</th>\n",
       "      <td>200</td>\n",
       "      <td>0.999852</td>\n",
       "      <td>0.547181</td>\n",
       "    </tr>\n",
       "    <tr>\n",
       "      <th>6</th>\n",
       "      <td>400</td>\n",
       "      <td>0.999852</td>\n",
       "      <td>0.545994</td>\n",
       "    </tr>\n",
       "    <tr>\n",
       "      <th>7</th>\n",
       "      <td>600</td>\n",
       "      <td>0.999852</td>\n",
       "      <td>0.543027</td>\n",
       "    </tr>\n",
       "    <tr>\n",
       "      <th>8</th>\n",
       "      <td>800</td>\n",
       "      <td>0.999852</td>\n",
       "      <td>0.551335</td>\n",
       "    </tr>\n",
       "    <tr>\n",
       "      <th>9</th>\n",
       "      <td>1000</td>\n",
       "      <td>0.999852</td>\n",
       "      <td>0.543323</td>\n",
       "    </tr>\n",
       "  </tbody>\n",
       "</table>\n",
       "</div>"
      ],
      "text/plain": [
       "   n_estimators  training accuracy  val accuracy\n",
       "0             5           0.947169      0.477745\n",
       "1            10           0.985234      0.505638\n",
       "2            20           0.997700      0.515134\n",
       "3            50           0.999852      0.529080\n",
       "4           100           0.999852      0.543917\n",
       "5           200           0.999852      0.547181\n",
       "6           400           0.999852      0.545994\n",
       "7           600           0.999852      0.543027\n",
       "8           800           0.999852      0.551335\n",
       "9          1000           0.999852      0.543323"
      ]
     },
     "execution_count": 55,
     "metadata": {},
     "output_type": "execute_result"
    }
   ],
   "source": [
    "pd.DataFrame({\"n_estimators\":n_settings, \"training accuracy\": training_accuracy, \"val accuracy\": val_accuracy})"
   ]
  },
  {
   "cell_type": "code",
   "execution_count": 56,
   "id": "d8992b50",
   "metadata": {},
   "outputs": [],
   "source": [
    "final_clf = RandomForestClassifier(n_estimators = 800)\n",
    "final_clf.fit(X_train, y_train)\n",
    "y_test_hat = final_clf.predict(X_test)"
   ]
  },
  {
   "cell_type": "code",
   "execution_count": 57,
   "id": "f90abef0",
   "metadata": {},
   "outputs": [
    {
     "data": {
      "text/plain": [
       "0.5433234421364985"
      ]
     },
     "execution_count": 57,
     "metadata": {},
     "output_type": "execute_result"
    }
   ],
   "source": [
    "accuracy_score(y_test, y_test_hat)"
   ]
  },
  {
   "cell_type": "code",
   "execution_count": 58,
   "id": "09270b2c",
   "metadata": {},
   "outputs": [
    {
     "data": {
      "text/plain": [
       "0.47791067375636426"
      ]
     },
     "execution_count": 58,
     "metadata": {},
     "output_type": "execute_result"
    }
   ],
   "source": [
    "f1_score(y_test, y_test_hat, average='macro')"
   ]
  },
  {
   "cell_type": "code",
   "execution_count": 59,
   "id": "5bb16fe1",
   "metadata": {},
   "outputs": [
    {
     "data": {
      "text/plain": [
       "array([[233,   8,   0,  50, 152],\n",
       "       [ 15,  67,   3,  19,  35],\n",
       "       [ 29,   4,  22,  75,  96],\n",
       "       [ 40,  14,   0, 580, 518],\n",
       "       [ 56,  14,   1, 410, 929]], dtype=int64)"
      ]
     },
     "execution_count": 59,
     "metadata": {},
     "output_type": "execute_result"
    }
   ],
   "source": [
    "confusion_matrix(y_test, y_test_hat)"
   ]
  },
  {
   "cell_type": "code",
   "execution_count": 36,
   "id": "3351c0d3",
   "metadata": {},
   "outputs": [
    {
     "data": {
      "text/plain": [
       "array([4.87039273e-02, 7.05374817e-02, 1.40714514e-01, 7.83879544e-02,\n",
       "       7.88435202e-02, 8.23317675e-02, 7.45176662e-02, 8.08141716e-02,\n",
       "       7.23541666e-02, 6.68627442e-02, 8.38313276e-03, 5.49749660e-03,\n",
       "       8.70132868e-03, 6.04136448e-03, 4.76054431e-03, 8.58551802e-03,\n",
       "       4.49576598e-03, 4.89101702e-03, 2.55242560e-03, 5.96395063e-03,\n",
       "       6.69168264e-03, 3.87751078e-03, 6.95508564e-03, 2.72225389e-03,\n",
       "       7.43573827e-03, 8.68017784e-04, 1.13696587e-03, 1.02041503e-02,\n",
       "       4.99050405e-03, 8.48110065e-03, 8.40561577e-03, 4.55681058e-03,\n",
       "       1.21267779e-02, 2.77441041e-03, 1.96374851e-03, 2.35527581e-04,\n",
       "       8.39536195e-04, 3.73967856e-03, 3.18172368e-05, 8.00661672e-05,\n",
       "       9.96493073e-04, 2.58445188e-03, 9.48871139e-04, 3.87189264e-03,\n",
       "       9.36695601e-04, 4.18171158e-03, 2.53330625e-04, 7.53201983e-05,\n",
       "       4.75264351e-03, 1.19805477e-02, 1.01757656e-02, 2.36913365e-03,\n",
       "       4.27436115e-03, 3.37298308e-03, 1.01869900e-03, 2.67177912e-03,\n",
       "       3.47786343e-03])"
      ]
     },
     "execution_count": 36,
     "metadata": {},
     "output_type": "execute_result"
    }
   ],
   "source": [
    "# feature importance\n",
    "clf.feature_importances_"
   ]
  },
  {
   "cell_type": "code",
   "execution_count": 39,
   "id": "31de7ddd",
   "metadata": {},
   "outputs": [],
   "source": [
    "def plot_feature_importances_cancer(model):\n",
    "    n_features = data.shape[1] - 1 \n",
    "    plt.barh(np.arange(n_features), model.feature_importances_, align='center')\n",
    "    plt.yticks(np.arange(n_features), X.columns, size = 10)\n",
    "    plt.xlabel(\"Feature importance\")\n",
    "    plt.ylabel(\"Feature\")\n",
    "    plt.ylim(-1, n_features)"
   ]
  },
  {
   "cell_type": "code",
   "execution_count": 40,
   "id": "6491b41e",
   "metadata": {},
   "outputs": [
    {
     "data": {
      "image/png": "[encoded data removed]",
      "text/plain": [
       "<Figure size 640x480 with 1 Axes>"
      ]
     },
     "metadata": {},
     "output_type": "display_data"
    }
   ],
   "source": [
    "plot_feature_importances_cancer(clf)"
   ]
  },
  {
   "cell_type": "code",
   "execution_count": 41,
   "id": "a7632c5a",
   "metadata": {},
   "outputs": [
    {
     "data": {
      "text/plain": [
       "취급불량 및 결함    7048\n",
       "운항과실         5759\n",
       "관리문제         2212\n",
       "기타           1131\n",
       "기상문제          697\n",
       "Name: 발생원인, dtype: int64"
      ]
     },
     "execution_count": 41,
     "metadata": {},
     "output_type": "execute_result"
    }
   ],
   "source": [
    "data['발생원인'].value_counts()"
   ]
  },
  {
   "cell_type": "markdown",
   "id": "37b34206",
   "metadata": {},
   "source": [
    "## 실험 결과\n",
    "### 우선적으로 대표적인 classifier alogorithm인 SVM 과 Random Forest를 가지고 실험을 진행해 보았다.\n",
    "\n",
    "#### SVM\n",
    " - scaling에 굉장히 예민한 알고리즘이다 보니 scaling을 적용하였고 이 때, 범주형 변수가 one-hot encoding이 되어 있어서 이와 같은 범위인 [0,1]로 맞춰주고자 MinMax Scaling을 진행하였다.\n",
    " - 또한, 대표적인 hyperparameter인 C와 gamma를 변형해가며 hyperparameter tuning도 진행하였다.\n",
    " - 그 결과 C=100 , gamma=0.01인 상황이 best라고 판단되어 이 값을 가지고 test를 진행하였다.\n",
    " - accuracy : 48.4%, f1_score : 34.8%\n",
    " - confustion matrix를 살펴본 결과 '관리문제'로 예측되는 경우가 매우 적었음을 확인할 수 있다.\n",
    " \n",
    " \n",
    " #### RandomForest\n",
    " - scaling의 robust한 알거리즘으로 scaling을 적용하지 않은 데이터를 가지고 실험을 진행하였다.\n",
    " - n_estimator이라는 hyperparameter를 변경해가며 validation에 대한 socre를 측정하면서 기본적으로 n_estimator가 높을 수록 실험결과가 좋음을 확인하였다.\n",
    " - 그 중 n_estimator 800이 bset라고 생각하여 이를 기준으로 최종 test를 진행하였다.\n",
    " - accuracy : 54.3%, f1_score : 47.79%\n",
    " - confustion matrix를 살펴본 결과 SVM과 달리 '관리문제'도 어느정도 예측할고 있고 이것이 accuracy에 반영된 것으로 보인다.\n",
    " - feature importance를 보면 아무래도 기상과 관련된 요인이 사고에 영향을 많이 미치는 것을 알 수 있었고 시각화에서 확인할 수 있었듯이 월별, 시간대별도 그에 준하는 영향을 끼친것으로 확인할 수 있었다.\n",
    " \n",
    " #### 정형데이터에서는 boosting기반의 알고리즘이 잘 통하는 것으로 알려져 있어 추가적으로 XGBoosting, LightGBM을 적용해보고자 한다."
   ]
  },
  {
   "cell_type": "code",
   "execution_count": null,
   "id": "ea933d00",
   "metadata": {},
   "outputs": [],
   "source": []
  }
 ],
 "metadata": {
  "kernelspec": {
   "display_name": "Python 3 (ipykernel)",
   "language": "python",
   "name": "python3"
  },
  "language_info": {
   "codemirror_mode": {
    "name": "ipython",
    "version": 3
   },
   "file_extension": ".py",
   "mimetype": "text/x-python",
   "name": "python",
   "nbconvert_exporter": "python",
   "pygments_lexer": "ipython3",
   "version": "3.9.7"
  }
 },
 "nbformat": 4,
 "nbformat_minor": 5
}
